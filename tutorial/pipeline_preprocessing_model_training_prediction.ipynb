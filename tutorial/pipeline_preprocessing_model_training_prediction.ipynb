{
 "cells": [
  {
   "cell_type": "markdown",
   "metadata": {},
   "source": [
    "# A full example of how to use the package"
   ]
  },
  {
   "cell_type": "markdown",
   "metadata": {},
   "source": [
    "## datasets (uncomment to use one of the data sets in BRAT format)"
   ]
  },
  {
   "cell_type": "code",
   "execution_count": 8,
   "metadata": {
    "ExecuteTime": {
     "end_time": "2021-08-18T21:05:40.901597Z",
     "start_time": "2021-08-18T21:05:40.899386Z"
    }
   },
   "outputs": [],
   "source": [
    "# we will use DDI data set at https://github.com/isegura/DDICorpus\n",
    "#training_root = \"./ddi/DDICorpusBrat/Train/MedLine\"\n",
    "#testing_root = \"./ddi/DDICorpusBrat/Test/MedLine\"\n",
    "#train_bio = \"./ddi/ddi_bio/\"\n",
    "#test_bio = \"./ddi/ddi_bio/test\"\n",
    "\n",
    "## NOTE: the code z62.82%20%20parent-child%20conflict had to be changed to z62.82%20%20parent_child%20conflict\n",
    "##       in the train and dev files in z-code-annotation-pitt-v1/z_code_bio/merge/ once they were created below.\n",
    "##       This was because the process for NER has code that splits on '-' which was tripped up by the original format \n",
    "##       of the code\n",
    "training_root = \"./z-code-annotation-pitt-v1//Train/\"\n",
    "testing_root = \"./z-code-annotation-pitt-v1/Test/\"\n",
    "train_bio = \"./z-code-annotation-pitt-v1/z_code_bio/\"\n",
    "test_bio = \"./z-code-annotation-pitt-v1/z_code_bio/test\""
   ]
  },
  {
   "cell_type": "markdown",
   "metadata": {},
   "source": [
    "## preprocessing using NLPpreprocessing package\n",
    "\n",
    "> if you do not want to use this package, you can see the tutorial brat2bio.ipynb or https://github.com/nlplab/brat/blob/master/tools/anntoconll.py"
   ]
  },
  {
   "cell_type": "code",
   "execution_count": 2,
   "metadata": {
    "ExecuteTime": {
     "end_time": "2021-08-18T19:46:47.761329Z",
     "start_time": "2021-08-18T19:46:46.417757Z"
    }
   },
   "outputs": [],
   "source": [
    "## DO NOTE RUN!! MANUALLY DOWNLOADED AND PATHS UPDATED BELOW\n",
    "# download preprocessing package NLP\n",
    "#! git clone https://github.com/uf-hobi-informatics-lab/NLPreprocessing.git"
   ]
  },
  {
   "cell_type": "code",
   "execution_count": 3,
   "metadata": {
    "ExecuteTime": {
     "end_time": "2021-08-18T19:58:17.989548Z",
     "start_time": "2021-08-18T19:58:17.974345Z"
    }
   },
   "outputs": [],
   "source": [
    "# link pacakge to python path\n",
    "# import necessary functions\n",
    "import sys\n",
    "sys.path.append(\"../../SDoH_SODA/NLPreprocessing\")\n",
    "sys.path.append(\"../../SDoH_SODA/NLPreprocessing/text_process\")\n",
    "sys.path.append(\"../../SDoH_SODA/NLPpreprocessing/text_process/sentence_tokenization.py\")\n",
    "\n",
    "import logging\n",
    "from annotation2BIO import generate_BIO, pre_processing, read_annotation_brat, BIOdata_to_file, logger\n",
    "from sentence_tokenization import logger as logger1\n",
    "\n",
    "# change log level to error to avoid too much log information in jupyter notebook\n",
    "logger1.setLevel(logging.ERROR)\n",
    "logger.setLevel(logging.ERROR)"
   ]
  },
  {
   "cell_type": "code",
   "execution_count": 4,
   "metadata": {
    "ExecuteTime": {
     "end_time": "2021-08-18T20:53:34.396303Z",
     "start_time": "2021-08-18T20:53:34.390390Z"
    }
   },
   "outputs": [
    {
     "data": {
      "text/plain": [
       "30"
      ]
     },
     "execution_count": 4,
     "metadata": {},
     "output_type": "execute_result"
    }
   ],
   "source": [
    "from pathlib import Path\n",
    "file_ids = set()\n",
    "\n",
    "for fn in Path(training_root).glob(\"*.ann\"):\n",
    "    file_ids.add(fn.stem)\n",
    "    \n",
    "len(file_ids)"
   ]
  },
  {
   "cell_type": "code",
   "execution_count": 5,
   "metadata": {
    "ExecuteTime": {
     "end_time": "2021-08-18T20:54:05.158495Z",
     "start_time": "2021-08-18T20:53:56.605891Z"
    }
   },
   "outputs": [
    {
     "name": "stderr",
     "output_type": "stream",
     "text": [
      "2024-05-10 17:29:21,991 ERROR ['brother', (3995, 4002), (3865, 3872)]\t('drug and alcohol abuse died at 48 of alcoholic cirrhosis', 'Z63.72%20%20Alcoholism%20and%20drug%20addiction%20in%20family', (3890, 3946)) not matched by their offsets.\n",
      "2024-05-10 17:29:21,992 ERROR ['which', (5464, 5469), (5365, 5370)]\t('His daughter suddenly died a few years ago as well from an intracranial hemorrhage', 'Z63.4%20%20%20Disappearance%20and%20death%20of%20family%20member', (5381, 5463)) not matched by their offsets.\n",
      "2024-05-10 17:29:21,993 ERROR ['has', (5470, 5473), (5371, 5374)]\t('His daughter suddenly died a few years ago as well from an intracranial hemorrhage', 'Z63.4%20%20%20Disappearance%20and%20death%20of%20family%20member', (5381, 5463)) not matched by their offsets.\n",
      "2024-05-10 17:29:21,993 ERROR ['.', (8335, 8336), (8231, 8232)]\t('Family increasingly strained to provide care for her and daughter has significant caretaker fatigue per my assessment on admission.', 'Z63%20Other%20problems%20related%20to%20primary%20support%20group,%20including%20family%20circumstances', (8205, 8336)) not matched by their offsets.\n",
      "2024-05-10 17:29:21,993 ERROR ['and', (9142, 9145), (9026, 9029)]\t('Her husband passed away recently', 'Z63.4%20%20%20Disappearance%20and%20death%20of%20family%20member', (9109, 9141)) not matched by their offsets.\n",
      "2024-05-10 17:29:21,994 ERROR ['and', (9437, 9440), (9348, 9351)]\t('her husband just passed away', 'Z63.4%20%20%20Disappearance%20and%20death%20of%20family%20member', (9395, 9423)) not matched by their offsets.\n",
      "2024-05-10 17:29:21,994 ERROR ['is', (9441, 9443), (9352, 9354)]\t('her husband just passed away one week ago', 'Z63.4%20%20%20Disappearance%20and%20death%20of%20family%20member', (9395, 9436)) not matched by their offsets.\n",
      "2024-05-10 17:29:21,994 ERROR ['.', (14344, 14345), (14302, 14303)]\t('polysubstance abuse', 'Z63.72%20%20Alcoholism%20and%20drug%20addiction%20in%20family', (14325, 14344)) not matched by their offsets.\n",
      "2024-05-10 17:29:21,994 ERROR ['Could', (14348, 14353), (14304, 14309)]\t('polysubstance abuse', 'Z63.72%20%20Alcoholism%20and%20drug%20addiction%20in%20family', (14325, 14344)) not matched by their offsets.\n",
      "2024-05-10 17:29:21,995 ERROR ['.', (14721, 14722), (14676, 14677)]\t('History of polysubstance abuse', 'Z63.72%20%20Alcoholism%20and%20drug%20addiction%20in%20family', (14691, 14721)) not matched by their offsets.\n",
      "2024-05-10 17:29:21,995 ERROR ['\"', (14722, 14723), (14678, 14679)]\t('polysubstance abuse.', 'Z63.72%20%20Alcoholism%20and%20drug%20addiction%20in%20family', (14702, 14722)) not matched by their offsets.\n",
      "2024-05-10 17:29:21,995 ERROR ['\"', (14726, 14727), (14680, 14681)]\t('polysubstance abuse.', 'Z63.72%20%20Alcoholism%20and%20drug%20addiction%20in%20family', (14702, 14722)) not matched by their offsets.\n",
      "2024-05-10 17:29:21,996 ERROR ['6', (14727, 14728), (14682, 14683)]\t('polysubstance abuse.', 'Z63.72%20%20Alcoholism%20and%20drug%20addiction%20in%20family', (14702, 14722)) not matched by their offsets.\n",
      "2024-05-10 17:29:21,996 ERROR ['.', (14934, 14935), (14892, 14893)]\t('history of polysubstance abuse', 'Z63.72%20%20Alcoholism%20and%20drug%20addiction%20in%20family', (14904, 14934)) not matched by their offsets.\n",
      "2024-05-10 17:29:21,997 ERROR ['History', (14939, 14946), (14894, 14901)]\t('polysubstance abuse', 'Z63.72%20%20Alcoholism%20and%20drug%20addiction%20in%20family', (14915, 14934)) not matched by their offsets.\n",
      "2024-05-10 17:29:21,997 ERROR [',', (15923, 15924), (15878, 15879)]\t('polysubstance abuse', 'Z63.72%20%20Alcoholism%20and%20drug%20addiction%20in%20family', (15904, 15923)) not matched by their offsets.\n",
      "2024-05-10 17:29:21,997 ERROR ['.', (16511, 16512), (16468, 16469)]\t('history of polysubstance abuse', 'Z63.72%20%20Alcoholism%20and%20drug%20addiction%20in%20family', (16481, 16511)) not matched by their offsets.\n",
      "2024-05-10 17:29:21,998 ERROR ['The', (16517, 16520), (16470, 16473)]\t('history of polysubstance abuse', 'Z63.72%20%20Alcoholism%20and%20drug%20addiction%20in%20family', (16481, 16511)) not matched by their offsets.\n",
      "2024-05-10 17:29:21,998 ERROR ['patient', (16521, 16528), (16474, 16481)]\t('polysubstance abuse', 'Z63.72%20%20Alcoholism%20and%20drug%20addiction%20in%20family', (16492, 16511)) not matched by their offsets.\n",
      "2024-05-10 17:29:21,998 ERROR ['.', (17039, 17040), (16991, 16992)]\t('Alcohol abuse: has been drinking more often recently', 'Z63.72%20%20Alcoholism%20and%20drug%20addiction%20in%20family', (16968, 17020)) not matched by their offsets.\n",
      "2024-05-10 17:29:21,999 ERROR ['.', (17218, 17219), (17179, 17180)]\t('+alcohol abuse', 'Z63.72%20%20Alcoholism%20and%20drug%20addiction%20in%20family', (17204, 17218)) not matched by their offsets.\n",
      "2024-05-10 17:29:21,999 ERROR ['See', (17222, 17225), (17181, 17184)]\t('alcohol abuse', 'Z63.72%20%20Alcoholism%20and%20drug%20addiction%20in%20family', (17205, 17218)) not matched by their offsets.\n",
      "2024-05-10 17:29:21,999 ERROR ['UGIB', (17730, 17734), (17671, 17675)]\t('alcohol abuse', 'Z63.72%20%20Alcoholism%20and%20drug%20addiction%20in%20family', (17712, 17725)) not matched by their offsets.\n",
      "2024-05-10 17:29:22,000 ERROR ['.', (19479, 19480), (19420, 19421)]\t('acute alcohol intoxication', 'Z63.72%20%20Alcoholism%20and%20drug%20addiction%20in%20family', (19422, 19448)) not matched by their offsets.\n",
      "2024-05-10 17:29:22,000 ERROR ['Family', (21074, 21080), (21032, 21038)]\t(\"patient's had some change in mental status which seems that has been going on for couple of years where the patient is confused and becomes angry when being corrected\", 'Z60.9%20%20%20Problem%20related%20to%20social%20environment,%20unspecified', (20904, 21070)) not matched by their offsets.\n",
      "2024-05-10 17:29:22,000 ERROR ['also', (21081, 21085), (21039, 21043)]\t(\"patient's had some change in mental status which seems that has been going on for couple of years where the patient is confused and becomes angry when being corrected\", 'Z60.9%20%20%20Problem%20related%20to%20social%20environment,%20unspecified', (20904, 21070)) not matched by their offsets.\n",
      "2024-05-10 17:29:22,001 ERROR ['states', (21086, 21092), (21044, 21050)]\t(\"patient's had some change in mental status which seems that has been going on for couple of years where the patient is confused and becomes angry when being corrected\", 'Z60.9%20%20%20Problem%20related%20to%20social%20environment,%20unspecified', (20904, 21070)) not matched by their offsets.\n",
      "2024-05-10 17:29:22,086 ERROR ['She', (22950, 22953), (22214, 22217)]\t('primary caregiver for her husband since the end of October and has been under significant stress', 'Z63.79%20%20Other%20stressful%20life%20events%20affecting%20family%20and%20household', (22850, 22946)) not matched by their offsets.\n",
      "2024-05-10 17:29:22,086 ERROR ['.', (23533, 23534), (22795, 22796)]\t('primary caregiver for her spouse who suffers from early dementia.', 'Z63.79%20%20Other%20stressful%20life%20events%20affecting%20family%20and%20household', (23469, 23534)) not matched by their offsets.\n",
      "2024-05-10 17:29:22,279 ERROR ['no', (28837, 28839), (25982, 25984)]\t('Neighbors report he often wanders around apartment complex and often forgets to pay bills or pays them twice  - [PERSONALNAME] score 12 indicating he cannot live by himself', 'Z60.2:%20Problems%20related%20to%20living%20alone', (28663, 28835)) not matched by their offsets.\n",
      "2024-05-10 17:29:22,280 ERROR ['no', (42019, 42021), (38307, 38309)]\t('Neighbors report he often wanders around apartment complex and often forgets to pay bills or pays them twice  - [PERSONALNAME] score 12 indicating he cannot live by himself', 'Z60.2:%20Problems%20related%20to%20living%20alone', (41845, 42017)) not matched by their offsets.\n",
      "2024-05-10 17:29:22,281 ERROR ['.', (49402, 49403), (45557, 45558)]\t(\"Alzheimer's dementia c/b behavioral disturbance: episode of aggression at nursing facility today when roommate walked in and he thought someone was trying to break in\", 'Z59.3:%20Problems%20related%20to%20living%20in%20residential%20institution', (49236, 49402)) not matched by their offsets.\n",
      "2024-05-10 17:29:22,282 ERROR ['\"', (69346, 69347), (64823, 64824)]\t('Discussed with daughter at bedside, who is concerned that mom is \"\"\"\"upset and just making a decision based on that', 'Z62.82%20%20Parent-child%20conflict', (69231, 69346)) not matched by their offsets.\n",
      "2024-05-10 17:29:22,282 ERROR ['Live', (72211, 72215), (67686, 67690)]\t('husband is \"\"\"\"out a lot\"\"\"\"', 'Z63.0:%20Problems%20in%20relationship%20with%20spouse%20or%20partner', (72181, 72209)) not matched by their offsets.\n",
      "2024-05-10 17:29:22,386 ERROR ['below', (549, 554), (549, 554)]\t('patient reported signifiant life stressors as per depression', 'Z63.79%20%20Other%20stressful%20life%20events%20affecting%20family%20and%20household', (488, 548)) not matched by their offsets.\n",
      "2024-05-10 17:29:22,387 ERROR ['He', (9724, 9726), (10019, 10021)]\t('losing his wife of', 'Z63.4%20%20%20Disappearance%20and%20death%20of%20family%20member', (9695, 9713)) not matched by their offsets.\n",
      "2024-05-10 17:29:22,387 ERROR ['.', (10768, 10769), (11046, 11047)]\t('unable to take care of himself or his wife', 'Z63.6%20%20%20Dependent%20relative%20needing%20care%20at%20home', (10726, 10768)) not matched by their offsets.\n",
      "2024-05-10 17:29:22,388 ERROR ['in', (26546, 26548), (26748, 26750)]\t('heavy alcohol intake in the past however after hospitalization last year', 'Z63.72%20%20Alcoholism%20and%20drug%20addiction%20in%20family', (26525, 26597)) not matched by their offsets.\n",
      "2024-05-10 17:29:22,840 ERROR ['however', (115, 122), (115, 122)]\t('her husband, who passed away 2 years ago and she has been declining', 'Z63.4%20%20%20Disappearance%20and%20death%20of%20family%20member', (40, 107)) not matched by their offsets.\n",
      "2024-05-10 17:29:22,841 ERROR ['Social', (1168, 1174), (1149, 1155)]\t('parents are deceased - unknown causes', 'Z63.4%20%20%20Disappearance%20and%20death%20of%20family%20member', (1125, 1162)) not matched by their offsets.\n",
      "2024-05-10 17:29:22,842 ERROR ['.', (27547, 27548), (27270, 27271)]\t('One brother died with ALS   One sister with CAD, DM', 'Z63.4%20%20%20Disappearance%20and%20death%20of%20family%20member', (27496, 27547)) not matched by their offsets.\n",
      "2024-05-10 17:29:23,254 ERROR ['.', (6631, 6632), (6826, 6827)]\t('Patient has been upset and anxious about some discord that she has had with her apratment complex manager', 'Z59.2%20%20%20Discord%20with%20neighbors,%20lodgers%20and%20landlord', (6526, 6631)) not matched by their offsets.\n",
      "2024-05-10 17:29:23,256 ERROR ['[', (49695, 49696), (50724, 50725)]\t('Was in the Marines at the end of World War II stationed in', 'Z56.82:%20Military%20deployment%20status', (49636, 49694)) not matched by their offsets.\n",
      "2024-05-10 17:29:23,257 ERROR ['ADDRESS', (49696, 49703), (50726, 50733)]\t('Was in the Marines at the end of World War II stationed in', 'Z56.82:%20Military%20deployment%20status', (49636, 49694)) not matched by their offsets.\n",
      "2024-05-10 17:29:23,400 ERROR ['-', (25959, 25960), (26621, 26622)]\t(\"Aggressive behavior noted at patient's prior facility due to misinterpretation of interaction with a roommate\", 'Z59.2%20%20%20Discord%20with%20neighbors,%20lodgers%20and%20landlord', (25848, 25957)) not matched by their offsets.\n",
      "2024-05-10 17:29:23,400 ERROR ['no', (27836, 27838), (28554, 28556)]\t('Neighbors report he often wanders around apartment complex and often forgets to pay bills or pays them twice  - [PERSONALNAME] score 12 indicating he cannot live by himself', 'Z60.2:%20Problems%20related%20to%20living%20alone', (27662, 27834)) not matched by their offsets.\n",
      "2024-05-10 17:29:23,401 ERROR ['current', (27839, 27846), (28557, 28564)]\t('Neighbors report he often wanders around apartment complex and often forgets to pay bills or pays them twice  - [PERSONALNAME] score 12 indicating he cannot live by himself;', 'Z60.2:%20Problems%20related%20to%20living%20alone', (27662, 27835)) not matched by their offsets.\n",
      "2024-05-10 17:29:25,079 ERROR ['recently', (13426, 13434), (13186, 13194)]\t('death of a daughter', 'Z63.4%20%20%20Disappearance%20and%20death%20of%20family%20member', (13406, 13425)) not matched by their offsets.\n",
      "2024-05-10 17:29:25,200 ERROR ['Review', (2239, 2245), (2178, 2184)]\t('Previoulsy worked in the coal mines and steel mills', 'Z57.3:%20Occupational%20exposure%20to%20other%20air%20contaminants', (2182, 2233)) not matched by their offsets.\n",
      "2024-05-10 17:29:25,201 ERROR ['.', (9436, 9437), (9043, 9044)]\t('exposure to asbestos and silica while working in the navy ship yardsand  in working in a foundry working with sand moulds.', 'Z57.3:%20Occupational%20exposure%20to%20other%20air%20contaminants', (9315, 9437)) not matched by their offsets.\n",
      "2024-05-10 17:29:25,201 ERROR ['Past', (9440, 9444), (9045, 9049)]\t('exposure to asbestos and silica while working in the navy ship yardsand  in working in a foundry working with sand moulds.', 'Z57.3:%20Occupational%20exposure%20to%20other%20air%20contaminants', (9315, 9437)) not matched by their offsets.\n",
      "2024-05-10 17:29:25,201 ERROR ['.', (19348, 19349), (18733, 18734)]\t('asbestose exposure from occupation   mold exposure from occupation .', 'Z57.3:%20Occupational%20exposure%20to%20other%20air%20contaminants', (19281, 19349)) not matched by their offsets.\n",
      "2024-05-10 17:29:25,202 ERROR ['.', (21702, 21703), (21166, 21167)]\t('exposure to asbestos and silica while working in the navy ship yardsand  in working in a foundry working with sand moulds.', 'Z57.3:%20Occupational%20exposure%20to%20other%20air%20contaminants', (21581, 21703)) not matched by their offsets.\n",
      "2024-05-10 17:29:25,202 ERROR ['Past', (21706, 21710), (21168, 21172)]\t('exposure to asbestos and silica while working in the navy ship yardsand  in working in a foundry working with sand moulds.', 'Z57.3:%20Occupational%20exposure%20to%20other%20air%20contaminants', (21581, 21703)) not matched by their offsets.\n",
      "2024-05-10 17:29:25,203 ERROR ['.', (31763, 31764), (31361, 31362)]\t('asbestose exposure from occupation   mold exposure from occupation', 'Z57.3:%20Occupational%20exposure%20to%20other%20air%20contaminants', (31696, 31762)) not matched by their offsets.\n",
      "2024-05-10 17:29:25,203 ERROR ['.', (33073, 33074), (32660, 32661)]\t('exposure to asbestos and silica while working in the navy ship yardsand  in working in a foundry working with sand moulds.', 'Z57.3:%20Occupational%20exposure%20to%20other%20air%20contaminants', (32952, 33074)) not matched by their offsets.\n",
      "2024-05-10 17:29:25,204 ERROR ['Past', (33077, 33081), (32662, 32666)]\t('exposure to asbestos and silica while working in the navy ship yardsand  in working in a foundry working with sand moulds.', 'Z57.3:%20Occupational%20exposure%20to%20other%20air%20contaminants', (32952, 33074)) not matched by their offsets.\n",
      "2024-05-10 17:29:25,205 ERROR ['.', (44729, 44730), (44508, 44509)]\t('asbestose exposure from occupation   mold exposure from occupation .', 'Z57.3:%20Occupational%20exposure%20to%20other%20air%20contaminants', (44662, 44730)) not matched by their offsets.\n",
      "2024-05-10 17:29:25,205 ERROR ['Past', (45075, 45079), (44847, 44851)]\t('exposure to asbestos and silica while working in the navy ship yardsand  in working in a foundry working with sand moulds.', 'Z57.3:%20Occupational%20exposure%20to%20other%20air%20contaminants', (44950, 45072)) not matched by their offsets.\n",
      "2024-05-10 17:29:25,205 ERROR ['medical', (45080, 45087), (44852, 44859)]\t('exposure to asbestos and silica while working in the navy ship yardsand  in working in a foundry working with sand moulds.', 'Z57.3:%20Occupational%20exposure%20to%20other%20air%20contaminants', (44950, 45072)) not matched by their offsets.\n",
      "2024-05-10 17:29:25,206 ERROR ['Histories', (47872, 47881), (47684, 47693)]\t('asbestose exposure from occupation   mold exposure from occupation .', 'Z57.3:%20Occupational%20exposure%20to%20other%20air%20contaminants', (47801, 47869)) not matched by their offsets.\n",
      "2024-05-10 17:29:25,531 ERROR ['.', (3530, 3531), (3506, 3507)]\t('patient has been under a lot of stress this week and acted up contributed to her loss of consciousness', 'Z63.79%20%20Other%20stressful%20life%20events%20affecting%20family%20and%20household', (3428, 3530)) not matched by their offsets.\n",
      "2024-05-10 17:29:25,532 ERROR ['Father', (7418, 7424), (7344, 7350)]\t('history of heavy alcohol use', 'Z63.72%20%20Alcoholism%20and%20drug%20addiction%20in%20family', (7337, 7365)) not matched by their offsets.\n",
      "2024-05-10 17:29:25,533 ERROR ['.', (8389, 8390), (8300, 8301)]\t('staff member at his personal care home and became very upset that she was insulting and yelling at him, triggering his chest pain', 'Z59.2%20%20%20Discord%20with%20neighbors,%20lodgers%20and%20landlord', (8260, 8389)) not matched by their offsets.\n",
      "2024-05-10 17:29:25,533 ERROR ['.', (11257, 11258), (11175, 11176)]\t('her usual caregiver and was walking the halls of her apartment complex which prompted police', 'Z59.2%20%20%20Discord%20with%20neighbors,%20lodgers%20and%20landlord', (11108, 11200)) not matched by their offsets.\n",
      "2024-05-10 17:29:25,533 ERROR ['.', (19448, 19449), (19106, 19107)]\t('had a lot of stress lately because her husband is on hospice for a brain tumor', 'Z63.79%20%20Other%20stressful%20life%20events%20affecting%20family%20and%20household', (19370, 19448)) not matched by their offsets.\n",
      "2024-05-10 17:29:25,534 ERROR ['.', (20633, 20634), (20292, 20293)]\t('extremely large amount of stress since bringing her husband home from the hospital on Tuesday with a new diagnosis of lung cancer.', 'Z63.79%20%20Other%20stressful%20life%20events%20affecting%20family%20and%20household', (20504, 20634)) not matched by their offsets.\n",
      "2024-05-10 17:29:25,535 ERROR ['9', (22993, 22994), (22641, 22642)]\t('Heroin Addiction', 'Z63.72%20%20Alcoholism%20and%20drug%20addiction%20in%20family', (22974, 22990)) not matched by their offsets.\n",
      "2024-05-10 17:29:25,535 ERROR ['.', (22994, 22995), (22643, 22644)]\t('Heroin Addiction', 'Z63.72%20%20Alcoholism%20and%20drug%20addiction%20in%20family', (22974, 22990)) not matched by their offsets.\n",
      "2024-05-10 17:29:25,535 ERROR ['.', (23726, 23727), (23342, 23343)]\t('she feels like mother is more forgetful, becoming confused and at times does not know where she is', 'Z62.82%20%20Parent-child%20conflict', (23628, 23726)) not matched by their offsets.\n",
      "2024-05-10 17:29:25,536 ERROR ['.', (24197, 24198), (23818, 23819)]\t('somewhat tearful and seems overwhelmed with caring for her mother at home', 'Z62.82%20%20Parent-child%20conflict', (24124, 24197)) not matched by their offsets.\n",
      "2024-05-10 17:29:25,536 ERROR ['5', (30112, 30113), (29620, 29621)]\t('Father died in his 80s of \"\"\"\"Old Age\"\"\"\"  1 Brother died', 'Z63.4%20%20%20Disappearance%20and%20death%20of%20family%20member', (30035, 30092)) not matched by their offsets.\n",
      "2024-05-10 17:29:25,537 ERROR ['and', (43428, 43431), (42585, 42588)]\t('drug and alcohol abuse', 'Z63.72%20%20Alcoholism%20and%20drug%20addiction%20in%20family', (43331, 43353)) not matched by their offsets.\n"
     ]
    }
   ],
   "source": [
    "# generate BIO from brat annotation\n",
    "train_root = Path(training_root)\n",
    "\n",
    "output_root = Path(train_bio)\n",
    "output_root.mkdir(parents=True, exist_ok=True)\n",
    "\n",
    "for fid in file_ids:\n",
    "    txt_fn = train_root / (fid + \".txt\")\n",
    "    ann_fn = train_root / (fid + \".ann\")\n",
    "    bio_fn = output_root / (fid + \".bio.txt\")\n",
    "    \n",
    "    txt, sents = pre_processing(txt_fn)\n",
    "    e2idx, entities, rels = read_annotation_brat(ann_fn)\n",
    "    nsents, sent_bound = generate_BIO(sents, entities, file_id=fid, no_overlap=False)\n",
    "    \n",
    "    BIOdata_to_file(bio_fn, nsents)"
   ]
  },
  {
   "cell_type": "code",
   "execution_count": 6,
   "metadata": {
    "ExecuteTime": {
     "end_time": "2021-08-18T20:55:30.793834Z",
     "start_time": "2021-08-18T20:55:30.103629Z"
    }
   },
   "outputs": [
    {
     "data": {
      "text/plain": [
       "(27, 3)"
      ]
     },
     "execution_count": 6,
     "metadata": {},
     "output_type": "execute_result"
    }
   ],
   "source": [
    "# now we have to split the train and dev sets\n",
    "# for transformer NER, we need to name these two datasets as train.txt and dev.txt\n",
    "from sklearn.model_selection import train_test_split\n",
    "\n",
    "file_ids = list(file_ids)\n",
    "train_ids, dev_ids = train_test_split(file_ids, train_size=0.9, random_state=13, shuffle=True)\n",
    "len(train_ids), len(dev_ids)"
   ]
  },
  {
   "cell_type": "code",
   "execution_count": 7,
   "metadata": {
    "ExecuteTime": {
     "end_time": "2021-08-18T20:56:16.667473Z",
     "start_time": "2021-08-18T20:56:16.626450Z"
    }
   },
   "outputs": [],
   "source": [
    "import fileinput\n",
    "\n",
    "merged = output_root / \"merge\" # this will the final data dir we use for training\n",
    "merged.mkdir(exist_ok=True, parents=True)\n",
    "\n",
    "# train\n",
    "with open(merged / \"train.txt\", \"w\") as f:\n",
    "    for fid in train_ids:\n",
    "        f.writelines(fileinput.input(output_root / (fid + \".bio.txt\")))\n",
    "    fileinput.close()\n",
    "        \n",
    "# dev\n",
    "with open(merged /\"dev.txt\", \"w\") as f:\n",
    "    for fid in dev_ids:\n",
    "        f.writelines(fileinput.input(output_root / (fid + \".bio.txt\")))\n",
    "    fileinput.close()"
   ]
  },
  {
   "cell_type": "markdown",
   "metadata": {},
   "source": [
    "## training model"
   ]
  },
  {
   "cell_type": "code",
   "execution_count": null,
   "metadata": {
    "ExecuteTime": {
     "end_time": "2021-08-18T21:01:52.395035Z",
     "start_time": "2021-08-18T21:01:31.980908Z"
    }
   },
   "outputs": [],
   "source": [
    "\"\"\"\n",
    "Next we will train the NER model\n",
    "\n",
    "We will just use a BERT model pre-trained on general English corpora as an example\n",
    "\n",
    "In general we need GPU to train the model, running with CPU the training will be extremely slow. \n",
    "\n",
    "To use GPU, you just need to run 'export CUDA_VISIBLE_DEVICES=0' before run the training command\n",
    "\"\"\"\n",
    "\n",
    "# -1 indicates using CPU for training; \n",
    "# 0 indicate we use the GPU with ID as 0, etc.\n",
    "! export CUDA_VISIBLE_DEVICES=0 \n",
    "\n",
    "# Pitt Z-code annotation command  \n",
    "### NOTE: I had to change line ~449 of ClinicalTransformerNER/src/transformer_ner/task.py to save the model even \n",
    "###       where there was no improvement in score since the best_score was always zero. This change did allow\n",
    "###       to run predict and get results.\n",
    "!  python ../src/run_transformer_ner.py \\\n",
    "      --model_type bert \\\n",
    "      --pretrained_model ../../SDoH_SODA/models/ner_bert/ \\\n",
    "      --data_dir ./z-code-annotation-pitt-v1/z_code_bio/merge/ \\\n",
    "      --new_model_dir ./new_bert_ner_model \\\n",
    "      --overwrite_model_dir \\\n",
    "      --max_seq_length 128 \\\n",
    "      --data_has_offset_information \\\n",
    "      --save_model_core \\\n",
    "      --overwrite_model_dir \\\n",
    "      --do_train \\\n",
    "      --model_selection_scoring strict-f_score-1 \\\n",
    "      --do_lower_case \\\n",
    "      --train_batch_size 8 \\\n",
    "      --train_steps 1000 \\\n",
    "      --learning_rate 1e-5 \\\n",
    "      --num_train_epochs 5 \\\n",
    "      --gradient_accumulation_steps 1 \\\n",
    "      --do_warmup \\\n",
    "      --seed 13 \\\n",
    "      --warmup_ratio 0.1 \\\n",
    "      --max_num_checkpoints 1 \\\n",
    "      --log_file ./log.txt \\\n",
    "      --progress_bar \\\n",
    "      --early_stop 3\n",
    "\n",
    "## Original command that was just an example:\n",
    "! python ../src/run_transformer_ner.py \\\n",
    "      --model_type bert \\\n",
    "      --pretrained_model bert-base-uncased \\\n",
    "      --data_dir ./ddi/ddi_bio/merge \\\n",
    "      --new_model_dir ./new_bert_ner_model \\\n",
    "      --overwrite_model_dir \\\n",
    "      --max_seq_length 128 \\\n",
    "      --data_has_offset_information \\\n",
    "      --save_model_core \\\n",
    "      --do_train \\\n",
    "      --model_selection_scoring strict-f_score-1 \\\n",
    "      --do_lower_case \\\n",
    "      --train_batch_size 8 \\\n",
    "      --train_steps 1000 \\\n",
    "      --learning_rate 1e-5 \\\n",
    "      --num_train_epochs 20 \\\n",
    "      --gradient_accumulation_steps 1 \\\n",
    "      --do_warmup \\\n",
    "      --seed 13 \\\n",
    "      --warmup_ratio 0.1 \\\n",
    "      --max_num_checkpoints 1 \\\n",
    "      --log_file ./log.txt \\\n",
    "      --progress_bar \\\n",
    "      --early_stop 3"
   ]
  },
  {
   "cell_type": "markdown",
   "metadata": {},
   "source": [
    "## do prediction on each test set file and format prediction as brat output"
   ]
  },
  {
   "cell_type": "code",
   "execution_count": 9,
   "metadata": {
    "ExecuteTime": {
     "end_time": "2021-08-18T21:07:04.934854Z",
     "start_time": "2021-08-18T21:06:59.577336Z"
    }
   },
   "outputs": [],
   "source": [
    "\"\"\"\n",
    "running prediction\n",
    "\n",
    "In our transformer package, we have the format conversion between bio and brat; bioc implemented\n",
    "\n",
    "you still have to convert the txt files for prediction to BIO format,\n",
    "but here you do not need to assign a real annotation label, we just use O as dummy\n",
    "\"\"\"\n",
    "\n",
    "# generate bio\n",
    "test_root = Path(testing_root)\n",
    "output_root = Path(test_bio)\n",
    "output_root.mkdir(parents=True, exist_ok=True)\n",
    "\n",
    "for fn in test_root.glob(\"*.txt\"):\n",
    "    txt_fn = fn\n",
    "    bio_fn = output_root / (fn.stem + \".bio.txt\")\n",
    "    \n",
    "    txt, sents = pre_processing(txt_fn)\n",
    "    annotations = [] # here we just use an empty list for annotation so that all words will be labeled as O\n",
    "    nsents, sent_bound = generate_BIO(sents, annotations, file_id=fid, no_overlap=False)\n",
    "    \n",
    "    BIOdata_to_file(bio_fn, nsents)"
   ]
  },
  {
   "cell_type": "code",
   "execution_count": null,
   "metadata": {},
   "outputs": [],
   "source": [
    "# run prediction\n",
    "! export CUDA_VISIBLE_DEVICES=0\n",
    "\n",
    "# use format 1 for BRAT, 2 for BioC, 0 as default for BIO\n",
    "# see readme for more information on parameters\n",
    "! python ../ClinicalTransformerNER/src/run_transformer_batch_prediction.py \\\n",
    "      --model_type bert \\\n",
    "      --pretrained_model ./new_bert_ner_model \\\n",
    "      --raw_text_dir ./z-code-annotation-pitt-v1/Test/ \\ # this is the dir where original text file located\n",
    "      --preprocessed_text_dir ./z-code-annotation-pitt-v1/z_code_bio/test \\ # this is the dir where the BIO file located\n",
    "      --output_dir ./z-code-annotation-pitt-v1/results \\\n",
    "      --max_seq_length 254 \\\n",
    "      --do_lower_case \\\n",
    "      --eval_batch_size 8 \\\n",
    "      --log_file ./log.txt\\\n",
    "      --do_format 1 \\\n",
    "      --do_copy \\\n",
    "      --data_has_offset_information\n",
    "\n",
    "# Pitt Z-code annotation command  \n",
    "\n",
    "! python ../ClinicalTransformerNER/src/run_transformer_batch_prediction.py \\\n",
    "      --model_type bert \\\n",
    "      --pretrained_model ./new_bert_ner_model \\\n",
    "      --raw_text_dir $testing_root \\ # this is the dir where original text file located\n",
    "      --preprocessed_text_dir $test_bio \\ # this is the dir where the BIO file located\n",
    "      --output_dir ./ddi/results \\\n",
    "      --max_seq_length 128 \\\n",
    "      --do_lower_case \\\n",
    "      --eval_batch_size 8 \\\n",
    "      --log_file ./log.txt\\\n",
    "      --do_format 1 \\\n",
    "      --do_copy \\\n",
    "      --data_has_offset_information\n",
    "\n",
    "# the bio prediction output will be generateed in ./ddi/results\n",
    "# the brat prediction output will be generateed in ./ddi/results_formatted_output"
   ]
  },
  {
   "cell_type": "markdown",
   "metadata": {},
   "source": [
    "## evaluation using brat eval script"
   ]
  },
  {
   "cell_type": "code",
   "execution_count": null,
   "metadata": {},
   "outputs": [],
   "source": [
    "# run evaluation\n",
    "# we have a brat_eval.py script used for evaluation of NER and relation extraction based on brat format\n",
    "\n",
    "! python ../src/eval_scripts/brat_eval.py --f1 ./ddi/DDICorpusBrat/Test/MedLine --f2 ./ddi/results_formatted_output/"
   ]
  }
 ],
 "metadata": {
  "kernelspec": {
   "display_name": "Python [conda env:default]",
   "language": "python",
   "name": "conda-env-default-py"
  },
  "language_info": {
   "codemirror_mode": {
    "name": "ipython",
    "version": 3
   },
   "file_extension": ".py",
   "mimetype": "text/x-python",
   "name": "python",
   "nbconvert_exporter": "python",
   "pygments_lexer": "ipython3",
   "version": "3.11.9"
  }
 },
 "nbformat": 4,
 "nbformat_minor": 4
}
